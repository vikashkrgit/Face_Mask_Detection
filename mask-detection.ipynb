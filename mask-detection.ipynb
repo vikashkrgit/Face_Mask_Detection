{
 "cells": [
  {
   "cell_type": "code",
   "execution_count": 2,
   "metadata": {},
   "outputs": [
    {
     "name": "stdout",
     "output_type": "stream",
     "text": [
      "Collecting opencv-python\n",
      "  Downloading opencv_python-4.6.0.66-cp36-abi3-win_amd64.whl (35.6 MB)\n",
      "Requirement already satisfied: numpy>=1.14.5; python_version >= \"3.7\" in c:\\users\\vikas\\anaconda3\\lib\\site-packages (from opencv-python) (1.19.5)\n",
      "Installing collected packages: opencv-python\n",
      "Successfully installed opencv-python-4.6.0.66\n"
     ]
    }
   ],
   "source": [
    "!pip install opencv-python"
   ]
  },
  {
   "cell_type": "code",
   "execution_count": 3,
   "metadata": {
    "execution": {
     "iopub.execute_input": "2021-05-01T17:09:42.626520Z",
     "iopub.status.busy": "2021-05-01T17:09:42.625008Z",
     "iopub.status.idle": "2021-05-01T17:09:48.464773Z",
     "shell.execute_reply": "2021-05-01T17:09:48.464189Z"
    },
    "papermill": {
     "duration": 5.862704,
     "end_time": "2021-05-01T17:09:48.465015",
     "exception": false,
     "start_time": "2021-05-01T17:09:42.602311",
     "status": "completed"
    },
    "tags": []
   },
   "outputs": [],
   "source": [
    "import pandas as pd\n",
    "import numpy as np\n",
    "import seaborn as sns\n",
    "import os\n",
    "from sklearn.utils import shuffle\n",
    "import matplotlib.pyplot as plt\n",
    "from keras.preprocessing.image import ImageDataGenerator, img_to_array, load_img\n",
    "import cv2\n",
    "from scipy.spatial import distance\n",
    "from keras import layers\n",
    "from keras import models\n",
    "from keras import optimizers\n",
    "from keras.applications.vgg19 import VGG19\n",
    "from keras.applications.vgg19 import preprocess_input"
   ]
  },
  {
   "cell_type": "code",
   "execution_count": 15,
   "metadata": {
    "execution": {
     "iopub.execute_input": "2021-05-01T17:09:48.614051Z",
     "iopub.status.busy": "2021-05-01T17:09:48.613236Z",
     "iopub.status.idle": "2021-05-01T17:09:48.615632Z",
     "shell.execute_reply": "2021-05-01T17:09:48.616104Z"
    },
    "papermill": {
     "duration": 0.024186,
     "end_time": "2021-05-01T17:09:48.616270",
     "exception": false,
     "start_time": "2021-05-01T17:09:48.592084",
     "status": "completed"
    },
    "tags": []
   },
   "outputs": [],
   "source": [
    "''' path of mask and no_mask '''\n",
    "mask_path = r\"C:\\Users\\vikas\\Downloads\\Git Project\\Face Mask Detection\\Face Mask Dataset\\Train\\WithMask\"\n",
    "no_mask_path = r\"C:\\Users\\vikas\\Downloads\\Git Project\\Face Mask Detection\\Face Mask Dataset\\Train\\WithoutMask\""
   ]
  },
  {
   "cell_type": "code",
   "execution_count": 29,
   "metadata": {
    "execution": {
     "iopub.execute_input": "2021-05-01T17:09:50.752363Z",
     "iopub.status.busy": "2021-05-01T17:09:50.751543Z",
     "iopub.status.idle": "2021-05-01T17:10:11.403026Z",
     "shell.execute_reply": "2021-05-01T17:10:11.403621Z"
    },
    "papermill": {
     "duration": 20.703639,
     "end_time": "2021-05-01T17:10:11.403829",
     "exception": false,
     "start_time": "2021-05-01T17:09:50.700190",
     "status": "completed"
    },
    "tags": []
   },
   "outputs": [
    {
     "name": "stdout",
     "output_type": "stream",
     "text": [
      "Found 10000 images belonging to 2 classes.\n",
      "Found 800 images belonging to 2 classes.\n",
      "Found 992 images belonging to 2 classes.\n"
     ]
    }
   ],
   "source": [
    "''' Data Augmentation '''\n",
    "\n",
    "train_ds = ImageDataGenerator(rescale = 1./255, rotation_range=40, width_shift_range=0.2, height_shift_range=0.2,\n",
    "                                   shear_range=0.2, zoom_range=0.2, horizontal_flip=True, fill_mode=\"nearest\")\n",
    "\n",
    "''' flow from directory '''\n",
    "train_ds = train_ds.flow_from_directory(r'C:\\Users\\vikas\\Downloads\\Git Project\\Face Mask Detection\\Face Mask Dataset\\Train', target_size=(150, 150),\n",
    "                                        batch_size = 32, class_mode = \"binary\")\n",
    "\n",
    "val_ds = ImageDataGenerator(rescale = 1./255)\n",
    "val_ds = val_ds.flow_from_directory(r'C:\\Users\\vikas\\Downloads\\Git Project\\Face Mask Detection\\Face Mask Dataset\\Validation', target_size=(150, 150),\n",
    "                                    batch_size = 32, class_mode = \"binary\")\n",
    "\n",
    "\n",
    "test_ds = ImageDataGenerator(rescale = 1./255)\n",
    "test_ds = test_ds.flow_from_directory(r'C:\\Users\\vikas\\Downloads\\Git Project\\Face Mask Detection\\Face Mask Dataset\\Test', target_size = (150, 150),\n",
    "                                          class_mode = \"binary\", batch_size = 32)"
   ]
  },
  {
   "cell_type": "code",
   "execution_count": 33,
   "metadata": {
    "execution": {
     "iopub.execute_input": "2021-05-01T17:10:11.556477Z",
     "iopub.status.busy": "2021-05-01T17:10:11.555952Z",
     "iopub.status.idle": "2021-05-01T17:10:15.144814Z",
     "shell.execute_reply": "2021-05-01T17:10:15.145902Z"
    },
    "papermill": {
     "duration": 3.63524,
     "end_time": "2021-05-01T17:10:15.146136",
     "exception": false,
     "start_time": "2021-05-01T17:10:11.510896",
     "status": "completed"
    },
    "tags": []
   },
   "outputs": [
    {
     "name": "stdout",
     "output_type": "stream",
     "text": [
      "Model: \"sequential_2\"\n",
      "_________________________________________________________________\n",
      "Layer (type)                 Output Shape              Param #   \n",
      "=================================================================\n",
      "vgg19 (Model)                (None, 4, 4, 512)         20024384  \n",
      "_________________________________________________________________\n",
      "flatten_2 (Flatten)          (None, 8192)              0         \n",
      "_________________________________________________________________\n",
      "dense_2 (Dense)              (None, 1)                 8193      \n",
      "=================================================================\n",
      "Total params: 20,032,577\n",
      "Trainable params: 8,193\n",
      "Non-trainable params: 20,024,384\n",
      "_________________________________________________________________\n"
     ]
    }
   ],
   "source": [
    "''' Vgg19 Model'''\n",
    "model1 = VGG19(weights='imagenet',include_top=False,input_shape=(150,150,3))\n",
    "\n",
    "''' unfreezing layers'''\n",
    "for layer in model1.layers:\n",
    "    layer.trainable = False\n",
    "\n",
    "''' container'''\n",
    "model = models.Sequential()\n",
    "model.add(model1)\n",
    "\n",
    "''' flattening '''\n",
    "model.add(layers.Flatten())\n",
    "''' classification layer '''\n",
    "model.add(layers.Dense(1,activation='sigmoid'))\n",
    "\n",
    "''' lets see how model looks '''\n",
    "model.summary()"
   ]
  },
  {
   "cell_type": "code",
   "execution_count": 34,
   "metadata": {
    "execution": {
     "iopub.execute_input": "2021-05-01T17:10:15.281934Z",
     "iopub.status.busy": "2021-05-01T17:10:15.281123Z",
     "iopub.status.idle": "2021-05-01T17:10:15.298825Z",
     "shell.execute_reply": "2021-05-01T17:10:15.299784Z"
    },
    "papermill": {
     "duration": 0.090125,
     "end_time": "2021-05-01T17:10:15.299990",
     "exception": false,
     "start_time": "2021-05-01T17:10:15.209865",
     "status": "completed"
    },
    "tags": []
   },
   "outputs": [],
   "source": [
    "''' compile the model '''\n",
    "model.compile(loss=\"binary_crossentropy\", optimizer=optimizers.RMSprop(lr = 1e-4), metrics=[\"acc\"])"
   ]
  },
  {
   "cell_type": "code",
   "execution_count": 35,
   "metadata": {
    "execution": {
     "iopub.execute_input": "2021-05-01T17:10:15.545666Z",
     "iopub.status.busy": "2021-05-01T17:10:15.545155Z",
     "iopub.status.idle": "2021-05-01T17:27:47.050430Z",
     "shell.execute_reply": "2021-05-01T17:27:47.049788Z"
    },
    "papermill": {
     "duration": 1051.560111,
     "end_time": "2021-05-01T17:27:47.050583",
     "exception": false,
     "start_time": "2021-05-01T17:10:15.490472",
     "status": "completed"
    },
    "tags": []
   },
   "outputs": [
    {
     "name": "stdout",
     "output_type": "stream",
     "text": [
      "Epoch 1/50\n",
      "9/9 [==============================] - 317s 35s/step - loss: 0.6891 - acc: 0.5174 - val_loss: 0.6331 - val_acc: 0.6313\n",
      "Epoch 2/50\n",
      "9/9 [==============================] - 315s 35s/step - loss: 0.6216 - acc: 0.6979 - val_loss: 0.5897 - val_acc: 0.7625\n",
      "Epoch 3/50\n",
      "9/9 [==============================] - 312s 35s/step - loss: 0.6085 - acc: 0.7049 - val_loss: 0.5126 - val_acc: 0.7588\n",
      "Epoch 4/50\n",
      "9/9 [==============================] - 261s 29s/step - loss: 0.5839 - acc: 0.7396 - val_loss: 0.4781 - val_acc: 0.7987\n",
      "Epoch 5/50\n",
      "9/9 [==============================] - 218s 24s/step - loss: 0.5418 - acc: 0.7978 - val_loss: 0.4792 - val_acc: 0.8625\n",
      "Epoch 6/50\n",
      "9/9 [==============================] - 222s 25s/step - loss: 0.5390 - acc: 0.7986 - val_loss: 0.4169 - val_acc: 0.8575\n",
      "Epoch 7/50\n",
      "9/9 [==============================] - 230s 26s/step - loss: 0.5235 - acc: 0.8056 - val_loss: 0.4366 - val_acc: 0.8725\n",
      "Epoch 8/50\n",
      "9/9 [==============================] - 256s 28s/step - loss: 0.4833 - acc: 0.8681 - val_loss: 0.4080 - val_acc: 0.8913\n",
      "Epoch 9/50\n",
      "9/9 [==============================] - 241s 27s/step - loss: 0.5027 - acc: 0.8229 - val_loss: 0.4807 - val_acc: 0.8938\n",
      "Epoch 10/50\n",
      "9/9 [==============================] - 241s 27s/step - loss: 0.4634 - acc: 0.8542 - val_loss: 0.3606 - val_acc: 0.8763\n",
      "Epoch 11/50\n",
      "9/9 [==============================] - 228s 25s/step - loss: 0.4347 - acc: 0.8542 - val_loss: 0.3587 - val_acc: 0.9025\n",
      "Epoch 12/50\n",
      "9/9 [==============================] - 211s 23s/step - loss: 0.4557 - acc: 0.8264 - val_loss: 0.3488 - val_acc: 0.9025\n",
      "Epoch 13/50\n",
      "9/9 [==============================] - 211s 23s/step - loss: 0.3977 - acc: 0.8993 - val_loss: 0.3166 - val_acc: 0.8863\n",
      "Epoch 14/50\n",
      "9/9 [==============================] - 215s 24s/step - loss: 0.4214 - acc: 0.8542 - val_loss: 0.3219 - val_acc: 0.9137\n",
      "Epoch 15/50\n",
      "9/9 [==============================] - 210s 23s/step - loss: 0.3755 - acc: 0.8924 - val_loss: 0.2897 - val_acc: 0.9225\n",
      "Epoch 16/50\n",
      "9/9 [==============================] - 209s 23s/step - loss: 0.3776 - acc: 0.9028 - val_loss: 0.2985 - val_acc: 0.9212\n",
      "Epoch 17/50\n",
      "9/9 [==============================] - 206s 23s/step - loss: 0.3829 - acc: 0.8958 - val_loss: 0.3089 - val_acc: 0.9112\n",
      "Epoch 18/50\n",
      "9/9 [==============================] - 206s 23s/step - loss: 0.3675 - acc: 0.9062 - val_loss: 0.2835 - val_acc: 0.9162\n",
      "Epoch 19/50\n",
      "9/9 [==============================] - 206s 23s/step - loss: 0.3345 - acc: 0.9028 - val_loss: 0.3666 - val_acc: 0.9087\n",
      "Epoch 20/50\n",
      "9/9 [==============================] - 35225s 3914s/step - loss: 0.3445 - acc: 0.9097 - val_loss: 0.3096 - val_acc: 0.9075\n",
      "Epoch 21/50\n",
      "9/9 [==============================] - 253s 28s/step - loss: 0.3426 - acc: 0.8611 - val_loss: 0.3698 - val_acc: 0.9137\n",
      "Epoch 22/50\n",
      "9/9 [==============================] - 259s 29s/step - loss: 0.3329 - acc: 0.8993 - val_loss: 0.2054 - val_acc: 0.9212\n",
      "Epoch 23/50\n",
      "9/9 [==============================] - 267s 30s/step - loss: 0.3415 - acc: 0.8854 - val_loss: 0.2622 - val_acc: 0.9212\n",
      "Epoch 24/50\n",
      "9/9 [==============================] - 235s 26s/step - loss: 0.3330 - acc: 0.8993 - val_loss: 0.2401 - val_acc: 0.9162\n",
      "Epoch 25/50\n",
      "9/9 [==============================] - 215s 24s/step - loss: 0.3296 - acc: 0.8924 - val_loss: 0.1803 - val_acc: 0.9262\n",
      "Epoch 26/50\n",
      "9/9 [==============================] - 223s 25s/step - loss: 0.3063 - acc: 0.9167 - val_loss: 0.2030 - val_acc: 0.9275\n",
      "Epoch 27/50\n",
      "9/9 [==============================] - 208s 23s/step - loss: 0.3190 - acc: 0.8993 - val_loss: 0.2144 - val_acc: 0.9287\n",
      "Epoch 28/50\n",
      "9/9 [==============================] - 210s 23s/step - loss: 0.2637 - acc: 0.9306 - val_loss: 0.2589 - val_acc: 0.9300\n",
      "Epoch 29/50\n",
      "9/9 [==============================] - 208s 23s/step - loss: 0.2897 - acc: 0.9097 - val_loss: 0.3325 - val_acc: 0.9287\n",
      "Epoch 30/50\n",
      "9/9 [==============================] - 205s 23s/step - loss: 0.2877 - acc: 0.9201 - val_loss: 0.1684 - val_acc: 0.9312\n",
      "Epoch 31/50\n",
      "9/9 [==============================] - 312s 35s/step - loss: 0.2901 - acc: 0.9097 - val_loss: 0.2048 - val_acc: 0.9237\n",
      "Epoch 32/50\n",
      "9/9 [==============================] - 500s 56s/step - loss: 0.2922 - acc: 0.9097 - val_loss: 0.1689 - val_acc: 0.9312\n",
      "Epoch 33/50\n",
      "9/9 [==============================] - 710s 79s/step - loss: 0.2668 - acc: 0.9062 - val_loss: 0.2730 - val_acc: 0.9262\n",
      "Epoch 34/50\n",
      "9/9 [==============================] - 614s 68s/step - loss: 0.2611 - acc: 0.9132 - val_loss: 0.2382 - val_acc: 0.9250\n",
      "Epoch 35/50\n",
      "9/9 [==============================] - 251s 28s/step - loss: 0.2599 - acc: 0.9271 - val_loss: 0.1266 - val_acc: 0.9312\n",
      "Epoch 36/50\n",
      "9/9 [==============================] - 238s 26s/step - loss: 0.2995 - acc: 0.8889 - val_loss: 0.2492 - val_acc: 0.9362\n",
      "Epoch 37/50\n",
      "9/9 [==============================] - 244s 27s/step - loss: 0.2636 - acc: 0.9201 - val_loss: 0.1651 - val_acc: 0.9350\n",
      "Epoch 38/50\n",
      "9/9 [==============================] - 238s 26s/step - loss: 0.2446 - acc: 0.9167 - val_loss: 0.0786 - val_acc: 0.9362\n",
      "Epoch 39/50\n",
      "9/9 [==============================] - 240s 27s/step - loss: 0.3063 - acc: 0.8785 - val_loss: 0.2995 - val_acc: 0.9375\n",
      "Epoch 40/50\n",
      "9/9 [==============================] - 238s 26s/step - loss: 0.2705 - acc: 0.9097 - val_loss: 0.1312 - val_acc: 0.9400\n",
      "Epoch 41/50\n",
      "9/9 [==============================] - 259s 29s/step - loss: 0.2333 - acc: 0.9410 - val_loss: 0.1450 - val_acc: 0.9350\n",
      "Epoch 42/50\n",
      "9/9 [==============================] - 233s 26s/step - loss: 0.2862 - acc: 0.8958 - val_loss: 0.2553 - val_acc: 0.9388\n",
      "Epoch 43/50\n",
      "9/9 [==============================] - 237s 26s/step - loss: 0.2689 - acc: 0.9167 - val_loss: 0.2122 - val_acc: 0.9350\n",
      "Epoch 44/50\n",
      "9/9 [==============================] - 223s 25s/step - loss: 0.2812 - acc: 0.8934 - val_loss: 0.1330 - val_acc: 0.9400\n",
      "Epoch 45/50\n",
      "9/9 [==============================] - 206s 23s/step - loss: 0.2606 - acc: 0.9028 - val_loss: 0.1505 - val_acc: 0.9413\n",
      "Epoch 46/50\n",
      "9/9 [==============================] - 204s 23s/step - loss: 0.2146 - acc: 0.9375 - val_loss: 0.2516 - val_acc: 0.9400\n",
      "Epoch 47/50\n",
      "9/9 [==============================] - 201s 22s/step - loss: 0.2311 - acc: 0.9444 - val_loss: 0.2421 - val_acc: 0.9400\n",
      "Epoch 48/50\n",
      "9/9 [==============================] - 201s 22s/step - loss: 0.2002 - acc: 0.9410 - val_loss: 0.2211 - val_acc: 0.9438\n",
      "Epoch 49/50\n",
      "9/9 [==============================] - 201s 22s/step - loss: 0.2174 - acc: 0.9236 - val_loss: 0.1509 - val_acc: 0.9438\n",
      "Epoch 50/50\n",
      "9/9 [==============================] - 201s 22s/step - loss: 0.2371 - acc: 0.9201 - val_loss: 0.1863 - val_acc: 0.9438\n"
     ]
    }
   ],
   "source": [
    "''' training '''\n",
    "history = model.fit(train_ds,steps_per_epoch=len(train_ds)//32, epochs=50,\n",
    "                    validation_data=val_ds, validation_steps=len(val_ds)//32)"
   ]
  },
  {
   "cell_type": "code",
   "execution_count": 36,
   "metadata": {
    "execution": {
     "iopub.execute_input": "2021-05-01T17:27:47.801069Z",
     "iopub.status.busy": "2021-05-01T17:27:47.798204Z",
     "iopub.status.idle": "2021-05-01T17:27:48.098254Z",
     "shell.execute_reply": "2021-05-01T17:27:48.097831Z"
    },
    "papermill": {
     "duration": 0.508425,
     "end_time": "2021-05-01T17:27:48.098374",
     "exception": false,
     "start_time": "2021-05-01T17:27:47.589949",
     "status": "completed"
    },
    "tags": []
   },
   "outputs": [
    {
     "ename": "NameError",
     "evalue": "name 'acc' is not defined",
     "output_type": "error",
     "traceback": [
      "\u001b[1;31m---------------------------------------------------------------------------\u001b[0m",
      "\u001b[1;31mNameError\u001b[0m                                 Traceback (most recent call last)",
      "\u001b[1;32m<ipython-input-36-9f64e0076415>\u001b[0m in \u001b[0;36m<module>\u001b[1;34m\u001b[0m\n\u001b[1;32m----> 1\u001b[1;33m \u001b[0mepochs\u001b[0m \u001b[1;33m=\u001b[0m \u001b[0mrange\u001b[0m\u001b[1;33m(\u001b[0m\u001b[1;36m1\u001b[0m\u001b[1;33m,\u001b[0m \u001b[0mlen\u001b[0m\u001b[1;33m(\u001b[0m\u001b[0macc\u001b[0m\u001b[1;33m)\u001b[0m \u001b[1;33m+\u001b[0m \u001b[1;36m1\u001b[0m\u001b[1;33m)\u001b[0m\u001b[1;33m\u001b[0m\u001b[1;33m\u001b[0m\u001b[0m\n\u001b[0m\u001b[0;32m      2\u001b[0m \u001b[1;33m\u001b[0m\u001b[0m\n\u001b[0;32m      3\u001b[0m \u001b[1;34m''' plotting training accuracy and validation accuracy '''\u001b[0m\u001b[1;33m\u001b[0m\u001b[1;33m\u001b[0m\u001b[0m\n\u001b[0;32m      4\u001b[0m \u001b[0mplt\u001b[0m\u001b[1;33m.\u001b[0m\u001b[0mfigure\u001b[0m\u001b[1;33m(\u001b[0m\u001b[0mfigsize\u001b[0m \u001b[1;33m=\u001b[0m \u001b[1;33m(\u001b[0m\u001b[1;36m15\u001b[0m\u001b[1;33m,\u001b[0m \u001b[1;36m6\u001b[0m\u001b[1;33m)\u001b[0m\u001b[1;33m)\u001b[0m\u001b[1;33m\u001b[0m\u001b[1;33m\u001b[0m\u001b[0m\n\u001b[0;32m      5\u001b[0m \u001b[0mplt\u001b[0m\u001b[1;33m.\u001b[0m\u001b[0mplot\u001b[0m\u001b[1;33m(\u001b[0m\u001b[0mepochs\u001b[0m\u001b[1;33m,\u001b[0m \u001b[0mhistory\u001b[0m\u001b[1;33m.\u001b[0m\u001b[0mhistory\u001b[0m\u001b[1;33m[\u001b[0m\u001b[1;34m\"acc\"\u001b[0m\u001b[1;33m]\u001b[0m\u001b[1;33m,\u001b[0m \u001b[1;34m\"bo\"\u001b[0m\u001b[1;33m,\u001b[0m \u001b[0mlabel\u001b[0m \u001b[1;33m=\u001b[0m \u001b[1;34m\"Eğitim Başarısı\"\u001b[0m\u001b[1;33m)\u001b[0m\u001b[1;33m\u001b[0m\u001b[1;33m\u001b[0m\u001b[0m\n",
      "\u001b[1;31mNameError\u001b[0m: name 'acc' is not defined"
     ]
    }
   ],
   "source": [
    "epochs = range(1, len(acc) + 1)\n",
    "\n",
    "''' plotting training accuracy and validation accuracy '''\n",
    "plt.figure(figsize = (15, 6))\n",
    "plt.plot(epochs, history.history[\"acc\"], \"bo\", label = \"Eğitim Başarısı\")\n",
    "plt.plot(epochs, history.history[\"val_acc\"], \"b\", label = \"Test Başarısı\")\n",
    "plt.title(\"Eğitim ve Test Başarısı\")\n",
    "plt.legend()\n",
    "\n",
    "''' plotting training loss and validation loss '''\n",
    "plt.figure(figsize = (15, 6))\n",
    "plt.plot(epochs, history.history[\"loss\"], \"bo\", label = \"Eğitim Kaybı\")\n",
    "plt.plot(epochs, history.history[\"val_loss\"], \"b\", label = \"Doğrulama Kaybı\")\n",
    "plt.legend()\n",
    "\n",
    "plt.show()"
   ]
  },
  {
   "cell_type": "code",
   "execution_count": 37,
   "metadata": {
    "execution": {
     "iopub.execute_input": "2021-05-01T17:27:48.828090Z",
     "iopub.status.busy": "2021-05-01T17:27:48.827147Z",
     "iopub.status.idle": "2021-05-01T17:28:07.501075Z",
     "shell.execute_reply": "2021-05-01T17:28:07.501722Z"
    },
    "papermill": {
     "duration": 18.860881,
     "end_time": "2021-05-01T17:28:07.501929",
     "exception": false,
     "start_time": "2021-05-01T17:27:48.641048",
     "status": "completed"
    },
    "tags": []
   },
   "outputs": [
    {
     "name": "stdout",
     "output_type": "stream",
     "text": [
      "9/9 [==============================] - 49s 5s/step\n",
      "Test ACC:  0.94\n"
     ]
    }
   ],
   "source": [
    "''' evaluating the model '''\n",
    "test_loss, test_acc = model.evaluate(test_ds, steps = 9)\n",
    "print(\"Test ACC: \", round(test_acc, 2))"
   ]
  },
  {
   "cell_type": "code",
   "execution_count": 41,
   "metadata": {},
   "outputs": [],
   "source": [
    "from os import listdir\n",
    "from os.path import isfile, join"
   ]
  },
  {
   "cell_type": "code",
   "execution_count": 52,
   "metadata": {},
   "outputs": [
    {
     "name": "stdout",
     "output_type": "stream",
     "text": [
      "['191.png', '193.png', '218.png', '219.png', '224.png', '225.png', '230.png', '231.png', '344.png', '345.png', '346.png', '350.png', '351.png', '408.png', '595.png', '608.png', '609.png', 'passp.jpg', 'vikashPic.jpg']\n"
     ]
    }
   ],
   "source": [
    "## Now Predict\n",
    "predict_dir_path='C:\\\\Users\\\\vikas\\\\Downloads\\\\Git Project\\\\Face Mask Detection\\\\Face Mask Dataset\\\\Test\\\\Common\\\\'\n",
    "onlyfiles = [f for f in listdir(predict_dir_path) if isfile(join(predict_dir_path, f))]\n",
    "print(onlyfiles)"
   ]
  },
  {
   "cell_type": "code",
   "execution_count": 53,
   "metadata": {},
   "outputs": [
    {
     "name": "stdout",
     "output_type": "stream",
     "text": [
      "191.png: without Mask\n",
      "193.png: without Mask\n",
      "218.png: without Mask\n",
      "219.png: without Mask\n",
      "224.png: without Mask\n",
      "225.png: without Mask\n",
      "230.png: without Mask\n",
      "231.png: without Mask\n",
      "344.png: without Mask\n",
      "345.png: without Mask\n",
      "346.png: without Mask\n",
      "350.png: without Mask\n",
      "351.png: without Mask\n",
      "408.png: With Mask\n",
      "595.png: With Mask\n",
      "608.png: without Mask\n",
      "609.png: With Mask\n",
      "passp.jpg: without Mask\n",
      "vikashPic.jpg: With Mask\n",
      "Total mask : 4\n",
      "Total without : 15\n"
     ]
    }
   ],
   "source": [
    "# predicting images\n",
    "from keras.preprocessing import image\n",
    "mask_counter = 0 \n",
    "withoutMaskt_counter  = 0\n",
    "for file in onlyfiles:\n",
    "    img = image.load_img(predict_dir_path+file, target_size=(150, 150))\n",
    "    x = image.img_to_array(img)\n",
    "    x = np.expand_dims(x, axis=0)\n",
    "    \n",
    "    images = np.vstack([x])\n",
    "    classes = model.predict_classes(images, batch_size=10)\n",
    "    classes = classes[0][0]\n",
    "    \n",
    "    if classes == 0:\n",
    "        print(file + \": \" + 'With Mask')\n",
    "        mask_counter += 1\n",
    "    else:\n",
    "        print(file + \": \" + 'without Mask')\n",
    "        withoutMaskt_counter += 1\n",
    "print(\"Total mask :\",mask_counter)\n",
    "print(\"Total without :\",withoutMaskt_counter)"
   ]
  },
  {
   "cell_type": "code",
   "execution_count": null,
   "metadata": {},
   "outputs": [],
   "source": []
  },
  {
   "cell_type": "code",
   "execution_count": null,
   "metadata": {},
   "outputs": [],
   "source": []
  }
 ],
 "metadata": {
  "kernelspec": {
   "display_name": "Python 3",
   "language": "python",
   "name": "python3"
  },
  "language_info": {
   "codemirror_mode": {
    "name": "ipython",
    "version": 3
   },
   "file_extension": ".py",
   "mimetype": "text/x-python",
   "name": "python",
   "nbconvert_exporter": "python",
   "pygments_lexer": "ipython3",
   "version": "3.7.6"
  },
  "papermill": {
   "default_parameters": {},
   "duration": 1121.094008,
   "end_time": "2021-05-01T17:28:16.883065",
   "environment_variables": {},
   "exception": null,
   "input_path": "__notebook__.ipynb",
   "output_path": "__notebook__.ipynb",
   "parameters": {},
   "start_time": "2021-05-01T17:09:35.789057",
   "version": "2.3.3"
  }
 },
 "nbformat": 4,
 "nbformat_minor": 5
}
